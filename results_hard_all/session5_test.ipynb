{
 "cells": [
  {
   "cell_type": "code",
   "execution_count": 2,
   "metadata": {},
   "outputs": [],
   "source": [
    "%matplotlib inline\n",
    "import matplotlib.pyplot as plt\n",
    "import pandas as pd\n",
    "import os\n",
    "import seaborn as sn"
   ]
  },
  {
   "cell_type": "code",
   "execution_count": 1,
   "metadata": {},
   "outputs": [],
   "source": [
    "import yaml\n",
    "eval_yaml_path = \"/datas/store163/othsueh/Emotion-LLaMA/eval_configs/eval_emotion.yaml\"\n",
    "test_data_path = f\"/datas/store163/othsueh/Corpus/IEMOCAP/Cross_validation/fold1_val.pickle\"\n",
    "with open(eval_yaml_path, 'r') as stream:\n",
    "    eval_config = yaml.safe_load(stream)\n",
    "eval_config[\"evaluation_datasets\"][\"feature_face_caption\"][\"eval_file_path\"] = test_data_path\n",
    "with open(eval_yaml_path, 'w') as stream:\n",
    "    yaml.dump(eval_config, stream)"
   ]
  },
  {
   "cell_type": "code",
   "execution_count": 4,
   "metadata": {},
   "outputs": [],
   "source": [
    "os.makedirs(\"/datas/store163/othsueh/Emotion-LLaMA/checkpoints/cross1/\", exist_ok=True)"
   ]
  },
  {
   "cell_type": "code",
   "execution_count": 7,
   "metadata": {},
   "outputs": [
    {
     "data": {
      "text/plain": [
       "'fdsfsdfds/fdsfsfs/string'"
      ]
     },
     "execution_count": 7,
     "metadata": {},
     "output_type": "execute_result"
    }
   ],
   "source": [
    "a = \"string\"\n",
    "path = f\"fdsfsdfds/fdsfsfs/{a}\"\n",
    "path"
   ]
  },
  {
   "cell_type": "code",
   "execution_count": 23,
   "metadata": {},
   "outputs": [],
   "source": [
    "confusion_matrix = [\n",
    "    [90, 0, 4, 17, 24, 0, 1, 1, 0, 0],\n",
    "    [0, 120, 3, 20, 0, 22, 0, 1, 0, 0],\n",
    "    [2, 1, 126, 25, 2, 0, 1, 0, 0, 0],\n",
    "    [5, 17, 24, 680, 25, 18, 1, 3, 0, 0],\n",
    "    [28, 4, 32, 152, 197, 8, 1, 6, 0, 0],\n",
    "    [0, 33, 0, 32, 1, 186, 1, 2, 0, 0],\n",
    "    [1, 0, 9, 5, 7, 1, 8, 1, 0, 0],\n",
    "    [1, 1, 2, 10, 1, 0, 0, 20, 0, 0],\n",
    "    [5, 0, 0, 9, 1, 0, 0, 2, 1, 0],\n",
    "    [27, 5, 12, 95, 25, 2, 0, 2, 0, 0]\n",
    "]\n",
    "emotions =[\"angry\", \"happy\", \"sad\", \"neutral\", \"frustrated\", \"excited\", \"fearful\", \"surprised\", \"disgusted\",\"other\"]\n",
    "plt.figure(figsize=(10, 8))\n",
    "sn.heatmap(confusion_matrix,cmap=\"mako_r\", annot=True, xticklabels=emotions, yticklabels=emotions)\n",
    "plt.title('Confusion Matrix')\n",
    "plt.xlabel('Predicted label')\n",
    "plt.ylabel('True label')\n",
    "plt.savefig(os.path.join(\"./\", 'confusion_matrix.png'))\n",
    "plt.close()"
   ]
  }
 ],
 "metadata": {
  "kernelspec": {
   "display_name": "llama",
   "language": "python",
   "name": "python3"
  },
  "language_info": {
   "codemirror_mode": {
    "name": "ipython",
    "version": 3
   },
   "file_extension": ".py",
   "mimetype": "text/x-python",
   "name": "python",
   "nbconvert_exporter": "python",
   "pygments_lexer": "ipython3",
   "version": "3.9.20"
  }
 },
 "nbformat": 4,
 "nbformat_minor": 2
}
