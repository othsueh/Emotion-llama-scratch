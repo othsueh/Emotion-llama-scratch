{
 "cells": [
  {
   "cell_type": "code",
   "execution_count": 1,
   "metadata": {},
   "outputs": [],
   "source": [
    "import os\n",
    "from transformers import AutoModelForCausalLM, AutoModel, AutoProcessor, AutoTokenizer"
   ]
  },
  {
   "cell_type": "code",
   "execution_count": 8,
   "metadata": {},
   "outputs": [],
   "source": [
    "def download_model(model_name, save_path):\n",
    "    model_base = model_name.split(\"/\")[1]\n",
    "    os.makedirs(save_path, exist_ok=True)\n",
    "    processor = AutoTokenizer.from_pretrained(model_name)\n",
    "    model = AutoModel.from_pretrained(model_name)\n",
    "    final_path = os.path.join(save_path, f\"{model_base}\")\n",
    "    if not os.path.exists(final_path):\n",
    "        os.makedirs(final_path)\n",
    "    processor.save_pretrained(final_path)\n",
    "    model.save_pretrained(final_path)\n",
    "    print(f\"Model {model_name} downloaded to {final_path}\")"
   ]
  },
  {
   "cell_type": "code",
   "execution_count": null,
   "metadata": {},
   "outputs": [],
   "source": [
    "save_path = \"checkpoints/transformer/\"\n",
    "model_name = \"TencentGameMate/chinese-hubert-large\"\n",
    "download_model(model_name, save_path)"
   ]
  },
  {
   "cell_type": "code",
   "execution_count": null,
   "metadata": {},
   "outputs": [],
   "source": [
    "save_path = \"checkpoints/\"\n",
    "model_name = \"meta-llama/Llama-2-7b-chat-hf\"\n",
    "download_model(model_name, save_path)"
   ]
  },
  {
   "cell_type": "code",
   "execution_count": 29,
   "metadata": {},
   "outputs": [
    {
     "name": "stdout",
     "output_type": "stream",
     "text": [
      "Model meta-llama/Llama-2-7b-chat-hf downloaded to checkpoints/Llama-2-7b-chat-hf\n"
     ]
    }
   ],
   "source": [
    "cache_dir = \"checkpoints/meta-llama--Llama-2-7b-chat-hf\"\n",
    "final_path = \"checkpoints/Llama-2-7b-chat-hf\"\n",
    "if os.path.exists(cache_dir):\n",
    "    os.rename(cache_dir, final_path)\n",
    "    print(f\"Model {model_name} downloaded to {final_path}\")"
   ]
  },
  {
   "cell_type": "code",
   "execution_count": 6,
   "metadata": {},
   "outputs": [
    {
     "data": {
      "application/vnd.jupyter.widget-view+json": {
       "model_id": "0b8bb2cec4bc443bac7b0d4b58d3b8a1",
       "version_major": 2,
       "version_minor": 0
      },
      "text/plain": [
       "Loading checkpoint shards:   0%|          | 0/2 [00:00<?, ?it/s]"
      ]
     },
     "metadata": {},
     "output_type": "display_data"
    }
   ],
   "source": [
    "model_path = \"checkpoints/Llama-2-7b-chat-hf\"\n",
    "tokenizer = AutoTokenizer.from_pretrained(model_path, use_fast=False)\n",
    "model = AutoModelForCausalLM.from_pretrained(model_path)"
   ]
  },
  {
   "cell_type": "code",
   "execution_count": 7,
   "metadata": {},
   "outputs": [
    {
     "name": "stdout",
     "output_type": "stream",
     "text": [
      "\n",
      "Testing with prompt: Write a short poem about a cat.\n",
      "\n",
      "Model Response:\n",
      "Write a short poem about a cat. Here are some things you could include:\n",
      "\n",
      "* The cat's fur\n",
      "* Its playful nature\n",
      "* Its love of napping\n",
      "* Its curious nature\n",
      "* Its purring\n",
      "\n",
      "Here is a short poem about a cat:\n",
      "\n",
      "Fluffy and soft, with eyes so bright,\n",
      "Purring in the sun, with a playful delight.\n",
      "Napping all day, in the warmest spot,\n",
      "\n"
     ]
    }
   ],
   "source": [
    "\n",
    "prompt = \"Write a short poem about a cat.\"\n",
    "print(\"\\nTesting with prompt:\", prompt)\n",
    "\n",
    "# Tokenize and generate\n",
    "inputs = tokenizer(prompt, return_tensors=\"pt\").to(model.device)\n",
    "\n",
    "# Generate response\n",
    "outputs = model.generate(\n",
    "    **inputs,\n",
    "    max_length=100,\n",
    "    temperature=0.7,\n",
    "    num_return_sequences=1,\n",
    ")\n",
    "\n",
    "# Decode and print response\n",
    "response = tokenizer.decode(outputs[0], skip_special_tokens=True)\n",
    "print(\"\\nModel Response:\")\n",
    "print(response)"
   ]
  }
 ],
 "metadata": {
  "kernelspec": {
   "display_name": "llama",
   "language": "python",
   "name": "python3"
  },
  "language_info": {
   "codemirror_mode": {
    "name": "ipython",
    "version": 3
   },
   "file_extension": ".py",
   "mimetype": "text/x-python",
   "name": "python",
   "nbconvert_exporter": "python",
   "pygments_lexer": "ipython3",
   "version": "undefined.undefined.undefined"
  }
 },
 "nbformat": 4,
 "nbformat_minor": 2
}
